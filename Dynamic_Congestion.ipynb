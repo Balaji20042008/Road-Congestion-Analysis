{
 "cells": [
  {
   "cell_type": "code",
   "execution_count": 9,
   "id": "4756550f-bb5d-4da9-b16a-5c580f4f659d",
   "metadata": {},
   "outputs": [],
   "source": [
    "import heapq\n",
    "import numpy as np\n",
    "\n",
    "# iPair ==> Integer Pair\n",
    "iPair = tuple\n",
    "\n",
    "# This class represents a directed graph using\n",
    "# adjacency list representation\n",
    "class Graph:\n",
    "    def __init__(self, V: int): # Constructor\n",
    "        self.V = V\n",
    "        self.adj = [[] for _ in range(V)]\n",
    "\n",
    "    def addEdge(self, u: int, v: int, w: int):\n",
    "        self.adj[u].append((v, w))\n",
    "        self.adj[v].append((u, w))\n",
    "\n",
    "    # Prints shortest paths from src to all other vertices\n",
    "    def shortestPath(self, src: int):\n",
    "        # Create a priority queue to store vertices that\n",
    "        # are being preprocessed\n",
    "        pq = []\n",
    "        heapq.heappush(pq, (0, src))\n",
    "\n",
    "        # Create a vector for distances and initialize all\n",
    "        # distances as infinite (INF)\n",
    "        dist = [float('inf')] * self.V\n",
    "        dist[src] = 0\n",
    "\n",
    "        while pq:\n",
    "            # The first vertex in pair is the minimum distance\n",
    "            # vertex, extract it from priority queue.\n",
    "            # vertex label is stored in second of pair\n",
    "            d, u = heapq.heappop(pq)\n",
    "\n",
    "            # 'i' is used to get all adjacent vertices of a\n",
    "            # vertex\n",
    "            for v, weight in self.adj[u]:\n",
    "                # If there is shorted path to v through u.\n",
    "                if dist[v] > dist[u] + weight:\n",
    "                    # Updating distance of v\n",
    "                    dist[v] = dist[u] + weight\n",
    "                    heapq.heappush(pq, (dist[v], v))\n",
    "\n",
    "        # Print shortest distances stored in dist[]\n",
    "        # for i in range(self.V):\n",
    "        #     print(f\"{i}:  {dist[i]}\")\n",
    "        \n",
    "        return dist\n",
    "\n",
    "# Driver's code\n",
    "if __name__ == \"__main__\":\n",
    "    # create the graph given in above figure\n",
    "    V = 9\n",
    "    g = Graph(V)\n",
    "\n",
    "    # making above shown graph\n",
    "    g.addEdge(0, 1, 4)\n",
    "    g.addEdge(0, 7, 8)\n",
    "    g.addEdge(1, 2, 8)\n",
    "    g.addEdge(1, 7, 11)\n",
    "    g.addEdge(2, 3, 7)\n",
    "    g.addEdge(2, 8, 2)\n",
    "    g.addEdge(2, 5, 4)\n",
    "    g.addEdge(3, 4, 9)\n",
    "    g.addEdge(3, 5, 14)\n",
    "    g.addEdge(4, 5, 10)\n",
    "    g.addEdge(5, 6, 2)\n",
    "    g.addEdge(6, 7, 1)\n",
    "    g.addEdge(6, 8, 6)\n",
    "    g.addEdge(7, 8, 7)\n",
    "    \n",
    "    lists = []\n",
    "    for i in range(0,V):\n",
    "        sub_list = g.shortestPath(i)\n",
    "        lists.append(sub_list)\n",
    "    lists = np.matrix(lists)"
   ]
  },
  {
   "cell_type": "code",
   "execution_count": 10,
   "id": "b5fce71a-7e85-4893-9268-bacc06362933",
   "metadata": {},
   "outputs": [
    {
     "data": {
      "text/plain": [
       "matrix([[ 0,  4, 12, 19, 21, 11,  9,  8, 14],\n",
       "        [ 4,  0,  8, 15, 22, 12, 12, 11, 10],\n",
       "        [12,  8,  0,  7, 14,  4,  6,  7,  2],\n",
       "        [19, 15,  7,  0,  9, 11, 13, 14,  9],\n",
       "        [21, 22, 14,  9,  0, 10, 12, 13, 16],\n",
       "        [11, 12,  4, 11, 10,  0,  2,  3,  6],\n",
       "        [ 9, 12,  6, 13, 12,  2,  0,  1,  6],\n",
       "        [ 8, 11,  7, 14, 13,  3,  1,  0,  7],\n",
       "        [14, 10,  2,  9, 16,  6,  6,  7,  0]])"
      ]
     },
     "execution_count": 10,
     "metadata": {},
     "output_type": "execute_result"
    }
   ],
   "source": [
    "lists"
   ]
  },
  {
   "cell_type": "code",
   "execution_count": null,
   "id": "6ea8d64f-61df-4973-a493-bd27a714b12d",
   "metadata": {},
   "outputs": [],
   "source": []
  }
 ],
 "metadata": {
  "kernelspec": {
   "display_name": "Python 3 (ipykernel)",
   "language": "python",
   "name": "python3"
  },
  "language_info": {
   "codemirror_mode": {
    "name": "ipython",
    "version": 3
   },
   "file_extension": ".py",
   "mimetype": "text/x-python",
   "name": "python",
   "nbconvert_exporter": "python",
   "pygments_lexer": "ipython3",
   "version": "3.10.8"
  }
 },
 "nbformat": 4,
 "nbformat_minor": 5
}
